{
 "cells": [
  {
   "cell_type": "markdown",
   "metadata": {},
   "source": [
    "# Import and analyze socioeconomic data\n",
    "### Load the socioeconomic data"
   ]
  },
  {
   "cell_type": "code",
   "execution_count": 2,
   "metadata": {},
   "outputs": [],
   "source": [
    "import os\n",
    "import numpy as np\n",
    "import pandas as pd\n",
    "cwd = os.getcwd()\n",
    "\n",
    "## For county separated data\n",
    "#input_files = os.listdir(cwd+\"\\Raw data\")\n",
    "\n",
    "## For all of Bay Area\n",
    "input_files = os.listdir(cwd+\"\\Raw Bay Area data\")"
   ]
  },
  {
   "cell_type": "code",
   "execution_count": 32,
   "metadata": {},
   "outputs": [
    {
     "name": "stdout",
     "output_type": "stream",
     "text": [
      "['Name', 'FIPS', '# Population, 2016', '# Population in Poverty, Total, 2016', '% Population in Poverty, Total, 2016', '% Housing, Renter Occupied, 2016', '# Housing, Renter Occupied, 2016', '# Population, 0 to 5 Years, 2016', '# Population, 6 to 11 Years, 2016', '# Population, 12 to 17 Years, 2016', '# Population, 65 Years and Older, 2016', 'Pensions and Social Security (Household Average), 2016', 'Pensions and Social Security ($000), 2016', '# Total Households with Social Security Income, 2016', '# Total Households with Supplemental Social Security Income (SSI), 2016', '# Total Households with Public Assistance Income, 2016', '# Total Households with Public Assistance Income or Food Stamps/SNAP, 2016', 'Personal insurance and pensions ($000), 2016', 'Personal insurance and pensions (Household Average), 2016', '# Households w/ Homeowners Or Personal Property Insurance: Have on home or personal belongings, 2016', '% Households w/ Homeowners Or Personal Property Insurance: Have on home or personal belongings, 2016', '# Households w/ Homeowners Or Personal Property Insurance: Homeowner, 2016', '% Households w/ Homeowners Or Personal Property Insurance: Homeowner, 2016', '# Households w/ Homeowners Or Personal Property Insurance: Renter, 2016', '% Households w/ Homeowners Or Personal Property Insurance: Renter, 2016', 'Homeowners and related insurance ($000), 2016', 'Homeowners and related insurance (Household Average), 2016', '# Employment, Unemployed, 2016', '% Employment, Unemployed, 2016', '# Employment, Federal Government Workers, 2016', '# Employment, State Government Workers, 2016', '# Employment, Local Government Workers, 2016', '# Employment, Agriculture, Forestry, Fishing and Hunting, 2016', '# Employment, Construction, 2016', '# Employment, Manufacturing, 2016', '# Employment, Wholesale Trade, 2016', '# Employment, Retail Trade, 2016', '# Employment, Transportation and Warehousing, 2016', '# Employment, Information, 2016', '# Employment, Finance and Insurance, 2016', '# Employment, Professional, Scientific, and Technical Services, 2016', '# Employment, Arts, Entertainment, Accommodation and Food Services, etc., 2016', '# Employment, Educational Services, 2016', '# Employment, Other Services, 2016', '# Employment, Public Administration, 2016', '# Employment, Administrative and Support and Waste Mgt. Services, 2016', '# Employment, Health Care and Social Assistance, 2016', '# Employment, Management of Companies and Enterprises, 2016', '# Employment, Mining, Quarrying and Oil and Gas Extraction, 2016', '# Employment, Real Estate and Rental and Leasing, 2016', '# Employment, Utilities, 2016', '# Household Population, 2016', '# Households w/ Income Less than $15,000, 2016', '% Households w/ Income $15,000 to $24,999, 2016', '# Households w/ Income $15,000 to $24,999, 2016', '% Households w/ Income Less than $15,000, 2016', 'Household Income, Per Capita ($), 2016', '# Households w/ Income $25,000 to $34,999, 2016', '% Households w/ Income $25,000 to $34,999, 2016', '# Households w/ Income $35,000 to $49,999, 2016', '% Households w/ Income $35,000 to $49,999, 2016', '# Households w/ Income $50,000 to $74,999, 2016', '% Households w/ Income $50,000 to $74,999, 2016', '# Households w/ Income $75,000 to $99,999, 2016', '% Households w/ Income $75,000 to $99,999, 2016', '# Households w/ Income $100,000 to $124,999, 2016', '% Households w/ Income $100,000 to $124,999, 2016', '# Households w/ Income $125,000 to $149,999, 2016', '% Households w/ Income $125,000 to $149,999, 2016', '# Households w/ Income $150,000 to $199,999, 2016', '% Households w/ Income $150,000 to $199,999, 2016', '% Households w/ Income $200,000 and Over, 2016', '# Households w/ Income $200,000 and Over, 2016', '# Population Not in Poverty, Total, 2016', '% Population Not in Poverty, Total, 2016', '# Education, < High School, 2016', '% Education, < High School, 2016', '# Education, High School, 2016', '% Education, High School, 2016', \"% Education Attainment, Associate's Degree, 2016\", \"# Education Attainment, Associate's Degree, 2016\", \"# Education, College, Master's or Doctorate Degree, 2016\", \"% Education, College, Master's or Doctorate Degree, 2016\", '% Education Attainment, Professional Degree, 2016', '# Education Attainment, Professional Degree, 2016', '% Employment, Agriculture, Forestry, Fishing and Hunting, 2016', '% Employment, Construction, 2016', '% Employment, Manufacturing, 2016', '% Employment, Wholesale Trade, 2016', '% Employment, Retail Trade, 2016', '% Employment, Transportation and Warehousing, 2016', '% Employment, Information, 2016', '% Employment, Finance and Insurance, 2016', '% Employment, Professional, Scientific, and Technical Services, 2016', '% Employment, Educational Services, 2016', '% Employment, Arts, Entertainment, Accommodation and Food Services, etc., 2016', '% Employment, Other Services, 2016', '% Employment, Public Administration, 2016', '% Employment, Administrative and Support and Waste Mgt. Services, 2016', '% Employment, Health Care and Social Assistance, 2016', '% Employment, Management of Companies and Enterprises, 2016', '% Employment, Mining, Quarrying and Oil and Gas Extraction, 2016', '% Employment, Real Estate and Rental and Leasing, 2016', '% Employment, Utilities, 2016', '# Housing, Owner Occupied, 2016', '% Housing, Owner Occupied, 2016', '% Employment, State Government Workers, 2016', '% Employment, Federal Government Workers, 2016', '% Employment, Local Government Workers, 2016', 'TRACT']\n"
     ]
    }
   ],
   "source": [
    "# Load and merge all the socioeconomic data together\n",
    "df_from_each_file = (pd.read_csv(cwd+\"\\Raw Bay Area data\\\\\"+f) for f in input_files)\n",
    "df_socio   = pd.concat(df_from_each_file,axis=1,ignore_index = False)\n",
    "df_socio = df_socio.T.drop_duplicates().T#, ignore_index=True,axis = 1)\n",
    "df_socio[\"TRACT\"] = df_socio.FIPS.astype(str).apply(lambda x: x[4:10]).astype(int) #create tract ID"
   ]
  },
  {
   "cell_type": "markdown",
   "metadata": {},
   "source": [
    "### Load in census tract geographical data"
   ]
  },
  {
   "cell_type": "code",
   "execution_count": 4,
   "metadata": {},
   "outputs": [
    {
     "name": "stdout",
     "output_type": "stream",
     "text": [
      "<type 'numpy.int64'>\n"
     ]
    }
   ],
   "source": [
    "df_census = pd.read_csv(cwd+\"\\\\bay_area_building_exposure.txt\")\n",
    "df_exposure = pd.read_csv(cwd+\"\\\\bay_area_building_exposure.txt\")\n",
    "print type(df_census.TRACT[1])"
   ]
  },
  {
   "cell_type": "markdown",
   "metadata": {},
   "source": [
    "### Merge the data"
   ]
  },
  {
   "cell_type": "code",
   "execution_count": 92,
   "metadata": {},
   "outputs": [
    {
     "name": "stdout",
     "output_type": "stream",
     "text": [
      "['OBJECTID', 'GEO_ID', 'STATE', 'COUNTY', 'TRACT', 'LSAD', 'CENSUSAREA', 'Full_tract', 'RES1I', 'RES2I', 'RES3AI', 'RES3BI', 'RES3CI', 'RES3DI', 'RES3EI', 'RES3FI', 'RES4I', 'RES5I', 'RES6I', 'COM1I', 'COM2I', 'COM3I', 'COM4I', 'COM5I', 'COM6I', 'COM7I', 'COM8I', 'COM9I', 'COM10I', 'IND1I', 'IND2I', 'IND3I', 'IND4I', 'IND5I', 'IND6I', 'AGR1I', 'REL1I', 'GOV1I', 'GOV2I', 'EDU1I', 'EDU2I', 'TotalCount', 'ORIG_FID', 'RASTERVALU', 'POINT_X', 'POINT_Y', 'Name', '# Population, 2016', '# Population in Poverty, Total, 2016', '% Population in Poverty, Total, 2016', '% Housing, Renter Occupied, 2016', '# Housing, Renter Occupied, 2016', '# Population, 0 to 5 Years, 2016', '# Population, 6 to 11 Years, 2016', '# Population, 12 to 17 Years, 2016', '# Population, 65 Years and Older, 2016', 'Pensions and Social Security (Household Average), 2016', 'Pensions and Social Security ($000), 2016', '# Total Households with Social Security Income, 2016', '# Total Households with Supplemental Social Security Income (SSI), 2016', '# Total Households with Public Assistance Income, 2016', '# Total Households with Public Assistance Income or Food Stamps/SNAP, 2016', 'Personal insurance and pensions ($000), 2016', 'Personal insurance and pensions (Household Average), 2016', '# Households w/ Homeowners Or Personal Property Insurance: Have on home or personal belongings, 2016', '% Households w/ Homeowners Or Personal Property Insurance: Have on home or personal belongings, 2016', '# Households w/ Homeowners Or Personal Property Insurance: Homeowner, 2016', '% Households w/ Homeowners Or Personal Property Insurance: Homeowner, 2016', '# Households w/ Homeowners Or Personal Property Insurance: Renter, 2016', '% Households w/ Homeowners Or Personal Property Insurance: Renter, 2016', 'Homeowners and related insurance ($000), 2016', 'Homeowners and related insurance (Household Average), 2016', '# Employment, Unemployed, 2016', '% Employment, Unemployed, 2016', '# Employment, Federal Government Workers, 2016', '# Employment, State Government Workers, 2016', '# Employment, Local Government Workers, 2016', '# Employment, Agriculture, Forestry, Fishing and Hunting, 2016', '# Employment, Construction, 2016', '# Employment, Manufacturing, 2016', '# Employment, Wholesale Trade, 2016', '# Employment, Retail Trade, 2016', '# Employment, Transportation and Warehousing, 2016', '# Employment, Information, 2016', '# Employment, Finance and Insurance, 2016', '# Employment, Professional, Scientific, and Technical Services, 2016', '# Employment, Arts, Entertainment, Accommodation and Food Services, etc., 2016', '# Employment, Educational Services, 2016', '# Employment, Other Services, 2016', '# Employment, Public Administration, 2016', '# Employment, Administrative and Support and Waste Mgt. Services, 2016', '# Employment, Health Care and Social Assistance, 2016', '# Employment, Management of Companies and Enterprises, 2016', '# Employment, Mining, Quarrying and Oil and Gas Extraction, 2016', '# Employment, Real Estate and Rental and Leasing, 2016', '# Employment, Utilities, 2016', '# Household Population, 2016', '# Households w/ Income Less than $15,000, 2016', '% Households w/ Income $15,000 to $24,999, 2016', '# Households w/ Income $15,000 to $24,999, 2016', '% Households w/ Income Less than $15,000, 2016', 'Household Income, Per Capita ($), 2016', '# Households w/ Income $25,000 to $34,999, 2016', '% Households w/ Income $25,000 to $34,999, 2016', '# Households w/ Income $35,000 to $49,999, 2016', '% Households w/ Income $35,000 to $49,999, 2016', '# Households w/ Income $50,000 to $74,999, 2016', '% Households w/ Income $50,000 to $74,999, 2016', '# Households w/ Income $75,000 to $99,999, 2016', '% Households w/ Income $75,000 to $99,999, 2016', '# Households w/ Income $100,000 to $124,999, 2016', '% Households w/ Income $100,000 to $124,999, 2016', '# Households w/ Income $125,000 to $149,999, 2016', '% Households w/ Income $125,000 to $149,999, 2016', '# Households w/ Income $150,000 to $199,999, 2016', '% Households w/ Income $150,000 to $199,999, 2016', '% Households w/ Income $200,000 and Over, 2016', '# Households w/ Income $200,000 and Over, 2016', '# Population Not in Poverty, Total, 2016', '% Population Not in Poverty, Total, 2016', '# Education, < High School, 2016', '% Education, < High School, 2016', '# Education, High School, 2016', '% Education, High School, 2016', \"% Education Attainment, Associate's Degree, 2016\", \"# Education Attainment, Associate's Degree, 2016\", \"# Education, College, Master's or Doctorate Degree, 2016\", \"% Education, College, Master's or Doctorate Degree, 2016\", '% Education Attainment, Professional Degree, 2016', '# Education Attainment, Professional Degree, 2016', '% Employment, Agriculture, Forestry, Fishing and Hunting, 2016', '% Employment, Construction, 2016', '% Employment, Manufacturing, 2016', '% Employment, Wholesale Trade, 2016', '% Employment, Retail Trade, 2016', '% Employment, Transportation and Warehousing, 2016', '% Employment, Information, 2016', '% Employment, Finance and Insurance, 2016', '% Employment, Professional, Scientific, and Technical Services, 2016', '% Employment, Educational Services, 2016', '% Employment, Arts, Entertainment, Accommodation and Food Services, etc., 2016', '% Employment, Other Services, 2016', '% Employment, Public Administration, 2016', '% Employment, Administrative and Support and Waste Mgt. Services, 2016', '% Employment, Health Care and Social Assistance, 2016', '% Employment, Management of Companies and Enterprises, 2016', '% Employment, Mining, Quarrying and Oil and Gas Extraction, 2016', '% Employment, Real Estate and Rental and Leasing, 2016', '% Employment, Utilities, 2016', '# Housing, Owner Occupied, 2016', '% Housing, Owner Occupied, 2016', '% Employment, State Government Workers, 2016', '% Employment, Federal Government Workers, 2016', '% Employment, Local Government Workers, 2016', 'total_RES']\n",
      "OBJECTID                                                                                             2\n",
      "GEO_ID                                                                            1400000US06001425104\n",
      "STATE                                                                                                6\n",
      "COUNTY                                                                                               1\n",
      "TRACT                                                                                           425104\n",
      "LSAD                                                                                             Tract\n",
      "CENSUSAREA                                                                                       0.415\n",
      "Full_tract                                                                                  6001425104\n",
      "RES1I                                                                                              394\n",
      "RES2I                                                                                                0\n",
      "RES3AI                                                                                             132\n",
      "RES3BI                                                                                              64\n",
      "RES3CI                                                                                              10\n",
      "RES3DI                                                                                              15\n",
      "RES3EI                                                                                               8\n",
      "RES3FI                                                                                               7\n",
      "RES4I                                                                                                1\n",
      "RES5I                                                                                                3\n",
      "RES6I                                                                                                0\n",
      "COM1I                                                                                               23\n",
      "COM2I                                                                                               18\n",
      "COM3I                                                                                               20\n",
      "COM4I                                                                                               30\n",
      "COM5I                                                                                                3\n",
      "COM6I                                                                                                0\n",
      "COM7I                                                                                                4\n",
      "COM8I                                                                                               23\n",
      "COM9I                                                                                                0\n",
      "COM10I                                                                                               0\n",
      "IND1I                                                                                                5\n",
      "                                                                                          ...         \n",
      "# Education Attainment, Associate's Degree, 2016                                                    63\n",
      "# Education, College, Master's or Doctorate Degree, 2016                                          1329\n",
      "% Education, College, Master's or Doctorate Degree, 2016                                       49.3685\n",
      "% Education Attainment, Professional Degree, 2016                                                7.578\n",
      "# Education Attainment, Professional Degree, 2016                                                  204\n",
      "% Employment, Agriculture, Forestry, Fishing and Hunting, 2016                                  0.4294\n",
      "% Employment, Construction, 2016                                                                5.0456\n",
      "% Employment, Manufacturing, 2016                                                               5.6361\n",
      "% Employment, Wholesale Trade, 2016                                                                  0\n",
      "% Employment, Retail Trade, 2016                                                               13.2582\n",
      "% Employment, Transportation and Warehousing, 2016                                              4.6699\n",
      "% Employment, Information, 2016                                                                 3.8111\n",
      "% Employment, Finance and Insurance, 2016                                                        0.161\n",
      "% Employment, Professional, Scientific, and Technical Services, 2016                           13.6339\n",
      "% Employment, Educational Services, 2016                                                        7.7831\n",
      "% Employment, Arts, Entertainment, Accommodation and Food Services, etc., 2016                 18.3038\n",
      "% Employment, Other Services, 2016                                                              9.0177\n",
      "% Employment, Public Administration, 2016                                                       3.3816\n",
      "% Employment, Administrative and Support and Waste Mgt. Services, 2016                               0\n",
      "% Employment, Health Care and Social Assistance, 2016                                          10.7354\n",
      "% Employment, Management of Companies and Enterprises, 2016                                          0\n",
      "% Employment, Mining, Quarrying and Oil and Gas Extraction, 2016                                     0\n",
      "% Employment, Real Estate and Rental and Leasing, 2016                                          2.4691\n",
      "% Employment, Utilities, 2016                                                                    1.664\n",
      "# Housing, Owner Occupied, 2016                                                                    526\n",
      "% Housing, Owner Occupied, 2016                                                                30.0915\n",
      "% Employment, State Government Workers, 2016                                                    4.4015\n",
      "% Employment, Federal Government Workers, 2016                                                  9.0714\n",
      "% Employment, Local Government Workers, 2016                                                    2.0397\n",
      "total_RES                                                                                          634\n",
      "Name: 1, Length: 155, dtype: object\n"
     ]
    }
   ],
   "source": [
    "df_all_raw =  pd.merge(df_census, df_socio, on = \"TRACT\")\n",
    "''' This is for country data\n",
    "drop_columns = ['NAME','FullTract_','Tract_1'] + list(df_all_raw)[22:47] + ['FIPS'] \\\n",
    "+ [\"% Education Attainment, High School (Pop 25+), American Indian and Alaska Native, 2017\"]\\\n",
    "+ [\"% Education Attainment, < High School (Pop 25+), American Indian and Alaska Native, 2017\"]\\\n",
    "+ [\"% Employment Male, Mining, Quarrying and Oil and Gas Extraction (Pop 16+), 2017\"]\\\n",
    "+ [\"# Employment Male, Agriculture, Forestry, Fishing and Hunting (Pop 16+), 2017\"]\\\n",
    "+ [\"% Employment Male, Agriculture, Forestry, Fishing and Hunting (Pop 16+), 2017\"]\\\n",
    "+ [\"# Employment Male, Mining, Quarrying and Oil and Gas Extraction (Pop 16+), 2017\"]\\\n",
    "+ ['# Population Poverty Universe, 2017']\\\n",
    "+ ['# Employment, Accomodation and Food Services (Pop 16+), 2017']\\\n",
    "+ ['# Employment, Arts, Entertainment, and Recreation, 2017']\\\n",
    "+ ['% Employment, Accomodation and Food Services (Pop 16+), 2017']\\\n",
    "+ ['% Employment, Arts, Entertainment, and Recreation, 2017']\n",
    "#+ ['# Employment, Management of Companies and Enterprises, 2017']\\\n",
    "#+ ['% Employment, Management of Companies and Enterprises, 2017']\n",
    "'''\n",
    "drop_columns = ['NAME','FullTract_','Tract_1','FIPS']\n",
    "df_all = df_all_raw.drop(columns = drop_columns)\n",
    "df_all['total_RES']=df_all.loc[:,\"RES1I\":'RES6I'].sum(axis=1)\n",
    "print list(df_all)\n",
    "#print df_all[['# Households (HHs), 2017','total_RES']]\n",
    "#print df_all.loc[df_all['# Households (HHs), 2017'] < df_all.total_RES,['# Households (HHs), 2017','total_RES']]\n",
    "print df_all.loc[1,:]"
   ]
  },
  {
   "cell_type": "code",
   "execution_count": 93,
   "metadata": {},
   "outputs": [
    {
     "name": "stdout",
     "output_type": "stream",
     "text": [
      "Emp_AGR     27798.0\n",
      "Emp_MIN      2371.0\n",
      "Emp_UTI     24651.0\n",
      "Emp_CON    189622.0\n",
      "Emp_MAN    386216.0\n",
      "Emp_WHO     88488.0\n",
      "Emp_RET    371798.0\n",
      "Emp_TRA    120301.0\n",
      "Emp_INF    118547.0\n",
      "Emp_FIN    239347.0\n",
      "Emp_PRO    620393.0\n",
      "Emp_EDU    773374.0\n",
      "Emp_ART    336844.0\n",
      "Emp_OTH    185368.0\n",
      "Emp_GOV    132110.0\n",
      "dtype: float64\n"
     ]
    }
   ],
   "source": [
    "# Aggregate and clean up the employment columns as per ARIO industries\n",
    "df_emp = df_all[['OBJECTID','Full_tract','POINT_X', 'POINT_Y']].copy()\n",
    "df_emp['Emp_AGR'] = df_all['# Employment, Agriculture, Forestry, Fishing and Hunting, 2016']\n",
    "df_emp['Emp_MIN'] = df_all['# Employment, Mining, Quarrying and Oil and Gas Extraction, 2016']\n",
    "df_emp['Emp_UTI'] = df_all['# Employment, Utilities, 2016']\n",
    "df_emp['Emp_CON'] = df_all['# Employment, Construction, 2016']\n",
    "df_emp['Emp_MAN'] = df_all['# Employment, Manufacturing, 2016']\n",
    "df_emp['Emp_WHO'] = df_all['# Employment, Wholesale Trade, 2016']\n",
    "df_emp['Emp_RET'] = df_all['# Employment, Retail Trade, 2016']\n",
    "df_emp['Emp_TRA'] = df_all['# Employment, Transportation and Warehousing, 2016']\n",
    "df_emp['Emp_INF'] = df_all['# Employment, Information, 2016']\n",
    "df_emp['Emp_FIN'] = df_all['# Employment, Finance and Insurance, 2016']+df_all['# Employment, Real Estate and Rental and Leasing, 2016']\n",
    "df_emp['Emp_PRO'] = df_all['# Employment, Administrative and Support and Waste Mgt. Services, 2016'] + df_all['# Employment, Professional, Scientific, and Technical Services, 2016']\\\n",
    "+df_all['# Employment, Management of Companies and Enterprises, 2016']\n",
    "df_emp['Emp_EDU'] = df_all['# Employment, Educational Services, 2016'] + df_all['# Employment, Health Care and Social Assistance, 2016']\n",
    "df_emp['Emp_ART'] = df_all['# Employment, Arts, Entertainment, Accommodation and Food Services, etc., 2016']\n",
    "df_emp['Emp_OTH'] = df_all['# Employment, Other Services, 2016']\n",
    "df_emp['Emp_GOV'] = df_all['# Employment, Public Administration, 2016']\n",
    "#df_emp['Emp_GOV'] = df_all[\"# Employment, State Government Workers, 2016\"]   + df_all[\"# Employment, Local Government Workers, 2016\"]  + df_all[\"# Employment, Local Government Workers, 2016\"]\n",
    "df_emp['Unemp'] = df_all['# Employment, Unemployed, 2016']\n",
    "print df_emp.sum(axis=0).loc[\"Emp_AGR\":'Emp_GOV']\n"
   ]
  },
  {
   "cell_type": "code",
   "execution_count": 98,
   "metadata": {},
   "outputs": [
    {
     "name": "stdout",
     "output_type": "stream",
     "text": [
      "# Population, 2016    7686271.0\n",
      "dtype: float64\n",
      "      OBJECTID                GEO_ID  STATE  COUNTY   TRACT   LSAD  \\\n",
      "188        189  1400000US06075980401      6      75  980401  Tract   \n",
      "1521      1522  1400000US06081984300      6      81  984300  Tract   \n",
      "\n",
      "      CENSUSAREA  Full_tract  RES1I  RES2I    ...     pcinc_INF  pcinc_FIN  \\\n",
      "188        0.162  6075980401      0      0    ...      169955.0   205476.0   \n",
      "1521       3.052  6081984300      0      0    ...      292557.0   168086.0   \n",
      "\n",
      "      pcinc_PRO  pcinc_EDU  pcinc_ART  pcinc_OTH  pcinc_GOV  Dependents  \\\n",
      "188    136470.0    51801.0    38956.0    51731.0    65787.0         0.0   \n",
      "1521   141247.0    64330.0    29829.0    48277.0    65787.0         0.0   \n",
      "\n",
      "      pcsoc  hh_share  \n",
      "188       0         1  \n",
      "1521      0         1  \n",
      "\n",
      "[2 rows x 174 columns]\n"
     ]
    }
   ],
   "source": [
    "# Output data specifically for the resilience model\n",
    "\n",
    "# Get country names in\n",
    "#print df_all.loc[:,['COUNTY','Full_tract','# Population, 2016']]\n",
    "df_all['COUNTY_name'] = \"\"\n",
    "county_dic = {1:\"Alameda\",13:\"Contra Costa\",41:\"Marin\",55:\"Napa\",75:\"San Francisco\",81:\"San Mateo\",85:\"Santa Clara\",95:\"Solano\",\\\n",
    "               97:\"Sonoma\"}\n",
    "unique_counties = df_all.COUNTY.unique()\n",
    "for county_num in unique_counties:\n",
    "     df_all.loc[lambda df_all: df_all.COUNTY == county_num, \"COUNTY_name\"] = county_dic[county_num]\n",
    "print df_all.loc[:,['# Population, 2016']].sum()\n",
    "\n",
    "\n",
    "\n",
    "########### Output a file equivalent to 'finalhhframe' in resilience model\n",
    "# Add average income per industry per worker for each of the counties\n",
    "df_pcinc_ind = pd.read_csv(\"Bay area - final employment statistics.csv\",index_col = 'ID').transpose()\n",
    "for county_num in unique_counties:\n",
    "    for industry in list(df_pcinc_ind):\n",
    "        df_all.loc[lambda df_all: df_all.COUNTY == county_num, industry] = df_pcinc_ind.loc[county_dic[county_num],industry]\n",
    "\n",
    "# Get the total number of dependents\n",
    "df_all['Dependents'] =  df_all.loc[:,['# Population, 0 to 5 Years, 2016', '# Population, 6 to 11 Years, 2016',\n",
    "                  '# Population, 12 to 17 Years, 2016', '# Population, 65 Years and Older, 2016']].sum(axis=1)\n",
    "# Per capital social assistance\n",
    "df_all.loc[df_all['# Population, 2016']==0,['# Population, 2016']] =  float('inf')\n",
    "df_all['pcsoc']=df_all['Pensions and Social Security ($000), 2016'].div(df_all['# Population, 2016'])\n",
    "df_all.loc[df_all['# Population, 2016']== float('inf'),['# Population, 2016']] = 0\n",
    "\n",
    "# Get the total number of dependents\n",
    "df_all['hh_share'] =  1-df_all.loc[:,['% Housing, Renter Occupied, 2016']]/100\n",
    "\n",
    "df_out = pd.DataFrame(df_all.loc[:,['COUNTY','COUNTY_name','Full_tract','# Population, 2016','Household Income, Per Capita ($), 2016',\n",
    "                                   '% Population in Poverty, Total, 2016','Dependents','hh_share']])#,\n",
    "#                      columns = ['county_id','country_name','tract','population']) \n",
    "df_out.columns = ['county_id','county_name','tract','population','pcinc','pov_percent','pop_dep','hh_share']\n",
    "\n",
    "# Merge with employment data\n",
    "df_out = pd.merge(df_out, df_emp, how='inner',left_on='tract',right_on='Full_tract')\n",
    "drop_columns = ['OBJECTID','Full_tract','POINT_X', 'POINT_Y']\n",
    "df_out = df_out.drop(columns = drop_columns)\n",
    "\n",
    "#print df_out\n",
    "df_out.to_csv('Bay_area_general.csv',index = False)"
   ]
  },
  {
   "cell_type": "code",
   "execution_count": 9,
   "metadata": {},
   "outputs": [
    {
     "name": "stdout",
     "output_type": "stream",
     "text": [
      "188       0.0000\n",
      "1550      0.0000\n",
      "1521      0.0000\n",
      "836       0.0000\n",
      "307       0.0000\n",
      "485      99.9996\n",
      "992      99.9997\n",
      "298      99.9997\n",
      "695      99.9997\n",
      "350      99.9997\n",
      "1404     99.9997\n",
      "731      99.9997\n",
      "732      99.9997\n",
      "1179     99.9997\n",
      "565      99.9997\n",
      "1204     99.9997\n",
      "8        99.9997\n",
      "899      99.9998\n",
      "1075     99.9998\n",
      "657      99.9998\n",
      "651      99.9998\n",
      "1093     99.9998\n",
      "759      99.9998\n",
      "26       99.9998\n",
      "1130     99.9998\n",
      "475      99.9998\n",
      "1479     99.9998\n",
      "781      99.9998\n",
      "774      99.9998\n",
      "171      99.9998\n",
      "          ...   \n",
      "1492    100.0002\n",
      "1144    100.0002\n",
      "1444    100.0002\n",
      "71      100.0002\n",
      "124     100.0002\n",
      "66      100.0002\n",
      "659     100.0002\n",
      "456     100.0003\n",
      "160     100.0003\n",
      "1481    100.0003\n",
      "878     100.0003\n",
      "536     100.0003\n",
      "1366    100.0003\n",
      "166     100.0003\n",
      "585     100.0003\n",
      "661     100.0003\n",
      "439     100.0003\n",
      "1057    100.0003\n",
      "1067    100.0003\n",
      "89      100.0003\n",
      "979     100.0003\n",
      "63      100.0003\n",
      "329     100.0003\n",
      "569     100.0003\n",
      "559     100.0003\n",
      "763     100.0003\n",
      "1369    100.0003\n",
      "663     100.0003\n",
      "1096    100.0003\n",
      "1212    100.0004\n",
      "Length: 1582, dtype: float64\n"
     ]
    }
   ],
   "source": [
    "df_emp_perc = df_all[['OBJECTID','Full_tract','POINT_X', 'POINT_Y']].copy()\n",
    "df_emp_perc['Emp_AGR'] = df_all['% Employment, Agriculture, Forestry, Fishing and Hunting, 2016']\n",
    "df_emp_perc['Emp_UTI'] = df_all['% Employment, Utilities, 2016']\n",
    "df_emp_perc['Emp_MIN'] = df_all['% Employment, Mining, Quarrying and Oil and Gas Extraction, 2016']\n",
    "df_emp_perc['Emp_CON'] = df_all['% Employment, Construction, 2016']\n",
    "df_emp_perc['Emp_MAN'] = df_all['% Employment, Manufacturing, 2016']\n",
    "df_emp_perc['Emp_WHO'] = df_all['% Employment, Wholesale Trade, 2016']\n",
    "df_emp_perc['Emp_RET'] = df_all['% Employment, Retail Trade, 2016']\n",
    "df_emp_perc['Emp_TRA'] = df_all['% Employment, Transportation and Warehousing, 2016']\n",
    "df_emp_perc['Emp_INF'] = df_all['% Employment, Information, 2016']\n",
    "df_emp_perc['Emp_FIN'] = df_all['% Employment, Finance and Insurance, 2016']+df_all['% Employment, Real Estate and Rental and Leasing, 2016']\n",
    "df_emp_perc['Emp_PRO'] = df_all['% Employment, Administrative and Support and Waste Mgt. Services, 2016'] + df_all['% Employment, Professional, Scientific, and Technical Services, 2016']\\\n",
    "+df_all['% Employment, Management of Companies and Enterprises, 2016']\n",
    "df_emp_perc['Emp_EDU'] = df_all['% Employment, Educational Services, 2016'] + df_all['% Employment, Health Care and Social Assistance, 2016']\n",
    "df_emp_perc['Emp_ART'] = df_all['% Employment, Arts, Entertainment, Accommodation and Food Services, etc., 2016']\n",
    "df_emp_perc['Emp_OTH'] = df_all['% Employment, Other Services, 2016']\n",
    "df_emp_perc['Emp_GOV'] = df_all['% Employment, Public Administration, 2016']\n",
    "#df_emp_perc['Emp_GOV'] = df_all[\"% Employment, State Government Workers, 2016\"]   + df_all[\"% Employment, Local Government Workers, 2016\"]  + df_all[\"% Employment, Local Government Workers, 2016\"]\n",
    "print df_emp_perc.loc[:,\"Emp_AGR\":'Emp_GOV'].sum(axis=1).sort_values(axis = 0)"
   ]
  },
  {
   "cell_type": "markdown",
   "metadata": {},
   "source": [
    "### Save the output table"
   ]
  },
  {
   "cell_type": "code",
   "execution_count": 111,
   "metadata": {},
   "outputs": [],
   "source": [
    "df_all.to_csv('Bay_area_exposure_merged.csv')"
   ]
  }
 ],
 "metadata": {
  "kernelspec": {
   "display_name": "Python 2",
   "language": "python",
   "name": "python2"
  },
  "language_info": {
   "codemirror_mode": {
    "name": "ipython",
    "version": 2
   },
   "file_extension": ".py",
   "mimetype": "text/x-python",
   "name": "python",
   "nbconvert_exporter": "python",
   "pygments_lexer": "ipython2",
   "version": "2.7.14"
  }
 },
 "nbformat": 4,
 "nbformat_minor": 2
}
