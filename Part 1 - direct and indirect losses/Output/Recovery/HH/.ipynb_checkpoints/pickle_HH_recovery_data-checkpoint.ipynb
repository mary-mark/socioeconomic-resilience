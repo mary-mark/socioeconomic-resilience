{
 "cells": [
  {
   "cell_type": "markdown",
   "metadata": {},
   "source": [
    "### Load the recovery data"
   ]
  },
  {
   "cell_type": "code",
   "execution_count": null,
   "metadata": {},
   "outputs": [],
   "source": [
    "nsims = 500\n",
    "\n",
    "for sim in  hazard_ratios.index.levels[1]:\n",
    "        loss_data = pd.read_csv('../../Loss_HH_Hayward_sc28_6/Loss_HH_Hayward_sc28_6_sim'+str(sim)+'_agg.csv')\n",
    "        loss_data = loss_data.set_index('tract')\n",
    "    "
   ]
  }
 ],
 "metadata": {
  "kernelspec": {
   "display_name": "Python 2",
   "language": "python",
   "name": "python2"
  },
  "language_info": {
   "codemirror_mode": {
    "name": "ipython",
    "version": 2
   },
   "file_extension": ".py",
   "mimetype": "text/x-python",
   "name": "python",
   "nbconvert_exporter": "python",
   "pygments_lexer": "ipython2",
   "version": "2.7.14"
  }
 },
 "nbformat": 4,
 "nbformat_minor": 2
}
