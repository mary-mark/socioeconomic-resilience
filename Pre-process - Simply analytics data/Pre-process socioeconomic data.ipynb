{
 "cells": [
  {
   "cell_type": "markdown",
   "metadata": {},
   "source": [
    "# Import and analyze socioeconomic data\n",
    "### Load the socioeconomic data"
   ]
  },
  {
   "cell_type": "code",
   "execution_count": 1,
   "metadata": {},
   "outputs": [
    {
     "name": "stdout",
     "output_type": "stream",
     "text": [
      "['Bay Area - Jan 2019 - Mortgage_Ranking_2019-01-14_09-49-46.csv', 'Bay Area Extra Data_housing values and rent.csv', 'Bay Area Extra Data_Ranking_2018-07-02_15-18-48.csv', 'Bay Area Extra Data_Ranking_Savings_family_hhs.csv', 'Bay Area_Ranking_2018-06-01_15-46-03.csv']\n"
     ]
    }
   ],
   "source": [
    "import os\n",
    "import numpy as np\n",
    "import pandas as pd\n",
    "import matplotlib.pyplot as plt\n",
    "cwd = os.getcwd()\n",
    "\n",
    "## For county separated data\n",
    "#input_files = os.listdir(cwd+\"\\Raw data\")\n",
    "\n",
    "## For all of Bay Area\n",
    "input_files = os.listdir(cwd+\"\\Raw Bay Area data\")\n",
    "print input_files"
   ]
  },
  {
   "cell_type": "code",
   "execution_count": 2,
   "metadata": {},
   "outputs": [],
   "source": [
    "# Load and merge all the socioeconomic data together\n",
    "df_from_each_file = (pd.read_csv(cwd+\"\\Raw Bay Area data\\\\\"+f) for f in input_files)\n",
    "for i,file_df in enumerate(df_from_each_file):\n",
    "    if i == 0:\n",
    "         df_socio  = file_df\n",
    "    else:\n",
    "        df_socio   = df_socio.merge(file_df,on = 'FIPS',how = 'inner',suffixes = ('',str(i)))\n",
    "df_socio = df_socio.T.drop_duplicates().T#, ignore_index=True,axis = 1)\n",
    "df_socio[\"TRACT\"] = df_socio.FIPS.astype(str).apply(lambda x: x[4:10]).astype(int) #create tract ID"
   ]
  },
  {
   "cell_type": "markdown",
   "metadata": {},
   "source": [
    "### Load in census tract geographical data"
   ]
  },
  {
   "cell_type": "code",
   "execution_count": 3,
   "metadata": {},
   "outputs": [
    {
     "name": "stdout",
     "output_type": "stream",
     "text": [
      "['OBJECTID', 'GEO_ID', 'STATE', 'COUNTY', 'TRACT', 'NAME', 'LSAD', 'CENSUSAREA', 'Full_tract', 'FullTract_', 'Tract_1', 'RES1I', 'RES2I', 'RES3AI', 'RES3BI', 'RES3CI', 'RES3DI', 'RES3EI', 'RES3FI', 'RES4I', 'RES5I', 'RES6I', 'COM1I', 'COM2I', 'COM3I', 'COM4I', 'COM5I', 'COM6I', 'COM7I', 'COM8I', 'COM9I', 'COM10I', 'IND1I', 'IND2I', 'IND3I', 'IND4I', 'IND5I', 'IND6I', 'AGR1I', 'REL1I', 'GOV1I', 'GOV2I', 'EDU1I', 'EDU2I', 'TotalCount', 'ORIG_FID', 'RASTERVALU', 'POINT_X', 'POINT_Y']\n"
     ]
    }
   ],
   "source": [
    "df_census = pd.read_csv(cwd+\"\\\\bay_area_building_exposure.txt\")\n",
    "df_exposure = pd.read_csv(cwd+\"\\\\bay_area_building_exposure.txt\")\n",
    "print list(df_exposure)"
   ]
  },
  {
   "cell_type": "markdown",
   "metadata": {},
   "source": [
    "### Merge the data"
   ]
  },
  {
   "cell_type": "code",
   "execution_count": 4,
   "metadata": {},
   "outputs": [
    {
     "name": "stdout",
     "output_type": "stream",
     "text": [
      "['OBJECTID', 'GEO_ID', 'STATE', 'COUNTY', 'TRACT', 'LSAD', 'CENSUSAREA', 'Full_tract', 'RES1I', 'RES2I', 'RES3AI', 'RES3BI', 'RES3CI', 'RES3DI', 'RES3EI', 'RES3FI', 'RES4I', 'RES5I', 'RES6I', 'COM1I', 'COM2I', 'COM3I', 'COM4I', 'COM5I', 'COM6I', 'COM7I', 'COM8I', 'COM9I', 'COM10I', 'IND1I', 'IND2I', 'IND3I', 'IND4I', 'IND5I', 'IND6I', 'AGR1I', 'REL1I', 'GOV1I', 'GOV2I', 'EDU1I', 'EDU2I', 'TotalCount', 'ORIG_FID', 'RASTERVALU', 'POINT_X', 'POINT_Y', 'Name', 'Mortgage interest and charges ($000), 2016', 'Aggregate Mortgage Debt, 2016', '# Households Having A Mortgage Debt, 2016', 'Mortgage interest and charges (Household Average), 2016', 'Shelter (Household Average), 2016', 'Shelter ($000), 2016', 'Housing (Household Average), 2016', 'Rent ($000), 2016', 'Rent (Household Average), 2016', 'Rent as pay ($000), 2016', 'Rent as pay (Household Average), 2016', '# Total Households with Interest, Dividends, or Net Rental Income, 2016', 'Housing, Median Rent ($), 2016', 'Housing, Median Value Owner Households ($), 2016', 'Aggregate Value of Any Financial Assets, 2016', 'Housing ($000), 2016', '# Population, 2016', '# Population in Poverty, Total, 2016', '% Population in Poverty, Total, 2016', '% Housing, Renter Occupied, 2016', '# Housing, Renter Occupied, 2016', '# Population, 0 to 5 Years, 2016', '# Population, 6 to 11 Years, 2016', '# Population, 12 to 17 Years, 2016', '# Population, 65 Years and Older, 2016', 'Pensions and Social Security (Household Average), 2016', 'Pensions and Social Security ($000), 2016', '# Total Households with Social Security Income, 2016', '# Total Households with Supplemental Social Security Income (SSI), 2016', '# Total Households with Public Assistance Income, 2016', '# Total Households with Public Assistance Income or Food Stamps/SNAP, 2016', 'Personal insurance and pensions ($000), 2016', 'Personal insurance and pensions (Household Average), 2016', '# Households w/ Homeowners Or Personal Property Insurance: Have on home or personal belongings, 2016', '% Households w/ Homeowners Or Personal Property Insurance: Have on home or personal belongings, 2016', '# Households w/ Homeowners Or Personal Property Insurance: Homeowner, 2016', '% Households w/ Homeowners Or Personal Property Insurance: Homeowner, 2016', '# Households w/ Homeowners Or Personal Property Insurance: Renter, 2016', '% Households w/ Homeowners Or Personal Property Insurance: Renter, 2016', 'Homeowners and related insurance ($000), 2016', 'Homeowners and related insurance (Household Average), 2016', '# Employment, Unemployed, 2016', '% Employment, Unemployed, 2016', 'Value of savings, checking, money market, and CDs (Household Average), 2016', 'Average Household Size, 2016', 'Average Family Size, 2016', '# Total Households, 2016', '# Employment, Federal Government Workers, 2016', '# Employment, State Government Workers, 2016', '# Employment, Local Government Workers, 2016', '# Employment, Agriculture, Forestry, Fishing and Hunting, 2016', '# Employment, Construction, 2016', '# Employment, Manufacturing, 2016', '# Employment, Wholesale Trade, 2016', '# Employment, Retail Trade, 2016', '# Employment, Transportation and Warehousing, 2016', '# Employment, Information, 2016', '# Employment, Finance and Insurance, 2016', '# Employment, Professional, Scientific, and Technical Services, 2016', '# Employment, Arts, Entertainment, Accommodation and Food Services, etc., 2016', '# Employment, Educational Services, 2016', '# Employment, Other Services, 2016', '# Employment, Public Administration, 2016', '# Employment, Administrative and Support and Waste Mgt. Services, 2016', '# Employment, Health Care and Social Assistance, 2016', '# Employment, Management of Companies and Enterprises, 2016', '# Employment, Mining, Quarrying and Oil and Gas Extraction, 2016', '# Employment, Real Estate and Rental and Leasing, 2016', '# Employment, Utilities, 2016', '# Household Population, 2016', '# Households w/ Income Less than $15,000, 2016', '% Households w/ Income $15,000 to $24,999, 2016', '# Households w/ Income $15,000 to $24,999, 2016', '% Households w/ Income Less than $15,000, 2016', 'Household Income, Per Capita ($), 2016', '# Households w/ Income $25,000 to $34,999, 2016', '% Households w/ Income $25,000 to $34,999, 2016', '# Households w/ Income $35,000 to $49,999, 2016', '% Households w/ Income $35,000 to $49,999, 2016', '# Households w/ Income $50,000 to $74,999, 2016', '% Households w/ Income $50,000 to $74,999, 2016', '# Households w/ Income $75,000 to $99,999, 2016', '% Households w/ Income $75,000 to $99,999, 2016', '# Households w/ Income $100,000 to $124,999, 2016', '% Households w/ Income $100,000 to $124,999, 2016', '# Households w/ Income $125,000 to $149,999, 2016', '% Households w/ Income $125,000 to $149,999, 2016', '# Households w/ Income $150,000 to $199,999, 2016', '% Households w/ Income $150,000 to $199,999, 2016', '% Households w/ Income $200,000 and Over, 2016', '# Households w/ Income $200,000 and Over, 2016', '# Population Not in Poverty, Total, 2016', '% Population Not in Poverty, Total, 2016', '# Education, < High School, 2016', '% Education, < High School, 2016', '# Education, High School, 2016', '% Education, High School, 2016', \"% Education Attainment, Associate's Degree, 2016\", \"# Education Attainment, Associate's Degree, 2016\", \"# Education, College, Master's or Doctorate Degree, 2016\", \"% Education, College, Master's or Doctorate Degree, 2016\", '% Education Attainment, Professional Degree, 2016', '# Education Attainment, Professional Degree, 2016', '% Employment, Agriculture, Forestry, Fishing and Hunting, 2016', '% Employment, Construction, 2016', '% Employment, Manufacturing, 2016', '% Employment, Wholesale Trade, 2016', '% Employment, Retail Trade, 2016', '% Employment, Transportation and Warehousing, 2016', '% Employment, Information, 2016', '% Employment, Finance and Insurance, 2016', '% Employment, Professional, Scientific, and Technical Services, 2016', '% Employment, Educational Services, 2016', '% Employment, Arts, Entertainment, Accommodation and Food Services, etc., 2016', '% Employment, Other Services, 2016', '% Employment, Public Administration, 2016', '% Employment, Administrative and Support and Waste Mgt. Services, 2016', '% Employment, Health Care and Social Assistance, 2016', '% Employment, Management of Companies and Enterprises, 2016', '% Employment, Mining, Quarrying and Oil and Gas Extraction, 2016', '% Employment, Real Estate and Rental and Leasing, 2016', '% Employment, Utilities, 2016', '# Housing, Owner Occupied, 2016', '% Housing, Owner Occupied, 2016', '% Employment, State Government Workers, 2016', '% Employment, Federal Government Workers, 2016', '% Employment, Local Government Workers, 2016', 'total_RES', 'total_asset_value']\n",
      "361352357890\n"
     ]
    }
   ],
   "source": [
    "df_all_raw =  pd.merge(df_census, df_socio, on = \"TRACT\")\n",
    "''' This is for country data\n",
    "drop_columns = ['NAME','FullTract_','Tract_1'] + list(df_all_raw)[22:47] + ['FIPS'] \\\n",
    "+ [\"% Education Attainment, High School (Pop 25+), American Indian and Alaska Native, 2017\"]\\\n",
    "+ [\"% Education Attainment, < High School (Pop 25+), American Indian and Alaska Native, 2017\"]\\\n",
    "+ [\"% Employment Male, Mining, Quarrying and Oil and Gas Extraction (Pop 16+), 2017\"]\\\n",
    "+ [\"# Employment Male, Agriculture, Forestry, Fishing and Hunting (Pop 16+), 2017\"]\\\n",
    "+ [\"% Employment Male, Agriculture, Forestry, Fishing and Hunting (Pop 16+), 2017\"]\\\n",
    "+ [\"# Employment Male, Mining, Quarrying and Oil and Gas Extraction (Pop 16+), 2017\"]\\\n",
    "+ ['# Population Poverty Universe, 2017']\\\n",
    "+ ['# Employment, Accomodation and Food Services (Pop 16+), 2017']\\\n",
    "+ ['# Employment, Arts, Entertainment, and Recreation, 2017']\\\n",
    "+ ['% Employment, Accomodation and Food Services (Pop 16+), 2017']\\\n",
    "+ ['% Employment, Arts, Entertainment, and Recreation, 2017']\n",
    "#+ ['# Employment, Management of Companies and Enterprises, 2017']\\\n",
    "#+ ['% Employment, Management of Companies and Enterprises, 2017']\n",
    "'''\n",
    "drop_columns = ['NAME','FullTract_','Tract_1','FIPS']\n",
    "df_all = df_all_raw.drop(columns = drop_columns)\n",
    "df_all['total_RES']=df_all.loc[:,\"RES1I\":'RES6I'].sum(axis=1)\n",
    "\n",
    "#Load in aggregated structural asset value\n",
    "df_asset_value = pd.read_csv(\"HH_total_asset_value.csv\")\n",
    "df_all = pd.merge(df_all,df_asset_value, how='inner', on='Full_tract')\n",
    "#print df_all['total_asset_value']\n",
    "\n",
    "\n",
    "print list(df_all)\n",
    "print (df_all.loc[:,'Household Income, Per Capita ($), 2016']*df_all.loc[:,'# Population, 2016']).sum()#print df_all[['# Households (HHs), 2017','total_RES']]\n",
    "#print df_all.loc[df_all['# Households (HHs), 2017'] < df_all.total_RES,['# Households (HHs), 2017','total_RES']]\n",
    "#print df_all.loc[1,:]"
   ]
  },
  {
   "cell_type": "markdown",
   "metadata": {},
   "source": [
    "### Answer to Stephanes question of income and type of housing"
   ]
  },
  {
   "cell_type": "code",
   "execution_count": null,
   "metadata": {},
   "outputs": [],
   "source": []
  },
  {
   "cell_type": "code",
   "execution_count": 8,
   "metadata": {},
   "outputs": [
    {
     "name": "stderr",
     "output_type": "stream",
     "text": [
      "C:\\Users\\Mary\\Anaconda2\\lib\\site-packages\\ipykernel_launcher.py:42: RuntimeWarning: Mean of empty slice\n"
     ]
    },
    {
     "name": "stdout",
     "output_type": "stream",
     "text": [
      "2129609\n"
     ]
    },
    {
     "data": {
      "image/png": "[encoded data removed]",
      "text/plain": [
       "<matplotlib.figure.Figure at 0xb01af28>"
      ]
     },
     "metadata": {},
     "output_type": "display_data"
    }
   ],
   "source": [
    "import numpy as np\n",
    "df_all['RES_single'] = df_all.RES1I\n",
    "df_all['RES_MFB'] = df_all.loc[:,'RES3AI']*2 +df_all.loc[:,'RES3BI']*3.5+df_all.loc[:,'RES3CI']*7+df_all.loc[:,'RES3DI']*14.5+df_all.loc[:,'RES3EI']*34.5+df_all.loc[:,'RES3FI']*60\n",
    "\n",
    "f, (ax2) = plt.subplots(1, 1, figsize = (6,4))\n",
    "x = np.array(df_all['Household Income, Per Capita ($), 2016'].values,dtype = float)\n",
    "\n",
    "'''\n",
    "y = np.array((df_all.RES1I/(df_all['RES_MFB']+df_all.RES1I)).values,dtype = float)\n",
    "\n",
    "prev = 0\n",
    "x_tr = []\n",
    "y_tr = []\n",
    "for i in np.arange(5000,180000,5000):\n",
    "    x_tr.append((prev+i)/2./1e3)\n",
    "    index = (x>=prev) & (x<i)\n",
    "    y_tr.append(np.nanmean(y[index])*100)\n",
    "    prev = i\n",
    "\n",
    "xy_pd = pd.DataFrame()\n",
    "xy_pd['y'] = df_all.RES1I/(df_all['RES_MFB']+df_all.RES1I)\n",
    "xy_pd['x'] = df_all['Household Income, Per Capita ($), 2016']\n",
    "xy_pd = xy_pd.sort_values(by = 'x')\n",
    "y_ma = xy_pd.y.rolling(window=75,min_periods=10).mean()\n",
    "\n",
    "ax1.scatter(x/1e3,y*100)\n",
    "ax1.plot(x_tr,y_tr,\"r--\")\n",
    "ax1.plot(xy_pd.x/1e3,y_ma*100,\"b--\")\n",
    "ax1.set_ylabel('% of hhs in single family buildings')\n",
    "ax1.set_xlabel(\"per capita income ($'000s)\")\n",
    "ax1.set_title('Per census tract')\n",
    "'''\n",
    "y = np.array((df_all.RES_MFB/(df_all['RES_MFB']+df_all.RES1I)).values,dtype = float)\n",
    "\n",
    "prev = 0\n",
    "x_tr = []\n",
    "y_tr = []\n",
    "\n",
    "for i in np.arange(5000,180000,5000):\n",
    "    x_tr.append((prev+i)/2./1e3)\n",
    "    index = (x>=prev) & (x<i)\n",
    "    y_tr.append(np.nanmean(y[index])*100)\n",
    "    prev = i\n",
    "    \n",
    "xy_pd = pd.DataFrame()\n",
    "xy_pd['y'] = df_all.RES_MFB/(df_all['RES_MFB']+df_all.RES1I)\n",
    "xy_pd['x'] = df_all['Household Income, Per Capita ($), 2016']\n",
    "xy_pd = xy_pd.sort_values(by = 'x')\n",
    "y_ma = xy_pd.y.rolling(window=75,min_periods=10).mean()\n",
    "\n",
    "ax2.scatter(x[x>5000]/1e3,y[x>5000]*100,color = 'gray',label = 'single census tract')\n",
    "#ax2.plot(x_tr,y_tr,\"r--\",label = 'average every 5K')\n",
    "ax2.plot(xy_pd.x/1e3,y_ma*100,\"k-\",label = 'moving average')\n",
    "ax2.set_ylabel('% of households living in \\n multi-family apartment buildings')\n",
    "ax2.set_xlabel(\"per capita income ($'000s)\")\n",
    "ax2.set_xlim(0,160)\n",
    "plt.legend(loc= 1)\n",
    "\n",
    "#ax2.set_title('Per census tract')\n",
    "plt.savefig('./figs/pcinc_vs_housing.png',dpi = 300)\n",
    "print df_all.TotalCount.sum()"
   ]
  },
  {
   "cell_type": "markdown",
   "metadata": {},
   "source": [
    "### Conitue original pre-process analysis"
   ]
  },
  {
   "cell_type": "code",
   "execution_count": 115,
   "metadata": {},
   "outputs": [
    {
     "name": "stderr",
     "output_type": "stream",
     "text": [
      "C:\\Users\\Mary\\Anaconda2\\lib\\site-packages\\ipykernel_launcher.py:22: DeprecationWarning: \n",
      ".ix is deprecated. Please use\n",
      ".loc for label based indexing or\n",
      ".iloc for positional indexing\n",
      "\n",
      "See the documentation here:\n",
      "http://pandas.pydata.org/pandas-docs/stable/indexing.html#ix-indexer-is-deprecated\n",
      "C:\\Users\\Mary\\Anaconda2\\lib\\site-packages\\ipykernel_launcher.py:26: DeprecationWarning: \n",
      ".ix is deprecated. Please use\n",
      ".loc for label based indexing or\n",
      ".iloc for positional indexing\n",
      "\n",
      "See the documentation here:\n",
      "http://pandas.pydata.org/pandas-docs/stable/indexing.html#ix-indexer-is-deprecated\n",
      "C:\\Users\\Mary\\Anaconda2\\lib\\site-packages\\ipykernel_launcher.py:30: DeprecationWarning: \n",
      ".ix is deprecated. Please use\n",
      ".loc for label based indexing or\n",
      ".iloc for positional indexing\n",
      "\n",
      "See the documentation here:\n",
      "http://pandas.pydata.org/pandas-docs/stable/indexing.html#ix-indexer-is-deprecated\n",
      "C:\\Users\\Mary\\Anaconda2\\lib\\site-packages\\ipykernel_launcher.py:24: RuntimeWarning: divide by zero encountered in double_scalars\n",
      "C:\\Users\\Mary\\Anaconda2\\lib\\site-packages\\ipykernel_launcher.py:28: RuntimeWarning: divide by zero encountered in double_scalars\n",
      "C:\\Users\\Mary\\Anaconda2\\lib\\site-packages\\ipykernel_launcher.py:32: RuntimeWarning: divide by zero encountered in double_scalars\n",
      "C:\\Users\\Mary\\Anaconda2\\lib\\site-packages\\ipykernel_launcher.py:36: RuntimeWarning: divide by zero encountered in double_scalars\n"
     ]
    }
   ],
   "source": [
    "# Determine the poverty line\n",
    "df_pov = pd.DataFrame(df_all.loc[:,['COUNTY','Full_tract','Average Household Size, 2016']])\n",
    "\n",
    "\n",
    "# Data source: https://www.huduser.gov/portal/datasets/il/il2016/2016summary.odn\n",
    "df_pov['COUNTY_name'] = \"\"\n",
    "county_dic = {1:\"Alameda\",13:\"Contra Costa\",41:\"Marin\",55:\"Napa\",75:\"San Francisco\",81:\"San Mateo\",85:\"Santa Clara\",95:\"Solano\",\\\n",
    "               97:\"Sonoma\"}\n",
    "unique_counties = df_pov.COUNTY.unique()\n",
    "for county_num in unique_counties:\n",
    "     df_pov.loc[lambda df_pov: df_pov.COUNTY == county_num, \"COUNTY_name\"] = county_dic[county_num]\n",
    "\n",
    "df_pov_line = pd.read_csv(\"Input\\HUD_poverty_data.csv\")\n",
    "df_pov_line =  df_pov_line.pivot(index='County', columns='FY 2016 income limit category')\n",
    "num_in_family = np.arange(1,9)\n",
    "df_pov_line_US = pd.read_csv(\"Input\\FederalRegister_poverty_data.csv\")\n",
    "df_pov_line_US =  df_pov_line_US.pivot(index='County', columns='FY 2016 income limit category')\n",
    "#print num_in_family\n",
    "#print list(df_pov_line)#.iloc[:,np.arange(2,24,3)]\n",
    "\n",
    "for index, row in df_pov.iterrows():   \n",
    "    county = row['COUNTY_name']\n",
    "    y = df_pov_line.loc[county].ix[np.arange(1,24,3)]\n",
    "    df_pov.loc[index,'LIL_hh'] = np.interp(row['Average Household Size, 2016'],num_in_family,y)\n",
    "    df_pov.loc[index,'LIL_pc'] = df_pov.loc[index,'LIL_hh']/row['Average Household Size, 2016']\n",
    "    \n",
    "    y = df_pov_line.loc[county].ix[np.arange(2,24,3)]\n",
    "    df_pov.loc[index,'VLIL_hh'] = np.interp(row['Average Household Size, 2016'],num_in_family,y)\n",
    "    df_pov.loc[index,'VLIL_pc'] = df_pov.loc[index,'VLIL_hh']/row['Average Household Size, 2016']\n",
    "    \n",
    "    y = df_pov_line.loc[county].ix[np.arange(0,24,3)]\n",
    "    df_pov.loc[index,'ELIL_hh'] = np.interp(row['Average Household Size, 2016'],num_in_family,y)\n",
    "    df_pov.loc[index,'ELIL_pc'] = df_pov.loc[index,'ELIL_hh']/row['Average Household Size, 2016']\n",
    "    \n",
    "    y = df_pov_line_US.loc['US']\n",
    "    df_pov.loc[index,'pov_lev_hh'] = np.interp(row['Average Household Size, 2016'],num_in_family,y)\n",
    "    df_pov.loc[index,'pov_lev_pc'] = df_pov.loc[index,'pov_lev_hh']/row['Average Household Size, 2016']\n",
    "    \n",
    "df_pov = df_pov.drop(columns =['COUNTY','COUNTY_name']).rename(index=str, columns={\"Average Household Size, 2016\": \"hh_size\"})\n",
    "\n",
    "df_pov['Full_tract'] = df_pov['Full_tract'].astype('int64') \n",
    "df_pov = df_pov.set_index('Full_tract')\n",
    "df_pov = df_pov.replace(np.inf, 0)"
   ]
  },
  {
   "cell_type": "code",
   "execution_count": 24,
   "metadata": {},
   "outputs": [
    {
     "name": "stdout",
     "output_type": "stream",
     "text": [
      "               POINT_X    POINT_Y Emp_AGR Emp_MIN Emp_UTI Emp_CON Emp_MAN  \\\n",
      "tract                                                                       \n",
      "6001425103 -122.289857  37.842579       0       0       7       4      56   \n",
      "6001425104 -122.283413  37.832637       8       0      31      94     105   \n",
      "6001426100 -122.225388  37.821620     115      23      22      27      82   \n",
      "6001427100 -122.232285  37.765926       0       0      48      58     144   \n",
      "6001427800 -122.269049  37.771469       0       0       0     140      61   \n",
      "6001428302 -122.246629  37.742763       0       0      33      81     218   \n",
      "6001430300 -122.083483  37.721360       0       0      25     110     114   \n",
      "6001430700 -122.082248  37.706110       0       0      37     218     215   \n",
      "6001431100 -122.067365  37.688022       0       0       9      80     161   \n",
      "6001432501 -122.166124  37.716729       0       0      13     221     210   \n",
      "6001433103 -122.139174  37.709286       0       0      13      40     240   \n",
      "6001433300 -122.157491  37.698572       0       0       0     209     525   \n",
      "6001433900 -122.113548  37.699251       0       0       0     168      78   \n",
      "6001435300 -122.064686  37.680712       0       0      11     224     122   \n",
      "6001435800 -122.129550  37.679284       0       0       5     168     262   \n",
      "6001436300 -122.091726  37.666278       0       0       0     287     439   \n",
      "6001437000 -122.101581  37.647205       0       0       0     166     170   \n",
      "6001437400 -122.087659  37.642881       0       0       0     161     235   \n",
      "6001437702 -122.073455  37.638471      62       0      12     340     296   \n",
      "6001438201 -122.076434  37.626131      17       0       0     206     275   \n",
      "6001438300 -122.088488  37.628190      47       0      32      78     184   \n",
      "6001440331 -122.083357  37.598200       0       0       6      30     259   \n",
      "6001440335 -122.012292  37.591334       9       0      32     134     674   \n",
      "6001441401 -122.038002  37.571711       0       0      31      30     508   \n",
      "6001441522 -122.057274  37.584541      14       8       6     152     394   \n",
      "6001441602 -122.021271  37.556959      20       0      13     224     497   \n",
      "6001441925 -121.963633  37.553014      45      37      14      29     745   \n",
      "6001442100 -121.949836  37.548262      26       0      26      50     602   \n",
      "6001442500 -121.987146  37.537182      19       0      20     196     686   \n",
      "6001442700 -122.008063  37.537168       0       0      41      64      90   \n",
      "...                ...        ...     ...     ...     ...     ...     ...   \n",
      "6097150202 -122.439363  38.318823      53       0      33     146     192   \n",
      "6097150203 -122.462159  38.277537      35       0      10     212     229   \n",
      "6097150303 -122.522929  38.300356      30       0       0      55     186   \n",
      "6097150304 -122.490231  38.306728      66       0       0     227     122   \n",
      "6097150305 -122.492808  38.325999     185       0       0     106     303   \n",
      "6097150306 -122.470744  38.335934      50       0      20     314     113   \n",
      "6097150500 -122.497007  38.383428      62       0       5     130     236   \n",
      "6097150602 -122.606786  38.244024       8       0      12     217     134   \n",
      "6097150603 -122.619086  38.249870      67       0      60     271     167   \n",
      "6097150607 -122.639276  38.276871       0       0      51     209     262   \n",
      "6001436602 -122.085133  37.651840      30       0       0     257     333   \n",
      "6001450743 -121.892419  37.693047       0       0      12      45     271   \n",
      "6013337300 -122.008086  37.940247      81       0      92     102     246   \n",
      "6001423000 -122.277132  37.866846       0       0       0     168     213   \n",
      "6001401400 -122.273392  37.820808      36       0       0      76      36   \n",
      "6055200203 -122.289112  38.286669      62       0       0      48     276   \n",
      "6075015500 -122.434062  37.785091       0       0      26       0      34   \n",
      "6081601400 -122.478793  37.681123       0       0       9     115     210   \n",
      "6085510600 -122.130213  37.408676       0      22       0      59     410   \n",
      "6081610400 -122.191405  37.482487      61      10       8     249     364   \n",
      "6085501200 -121.878708  37.346549       0       0       0     135     216   \n",
      "6085503707 -121.853833  37.357911       0       0       0     121     691   \n",
      "6085506605 -121.969338  37.297367       0       0       0     188     294   \n",
      "6095250200 -122.210154  38.104449       0       0       0     122     126   \n",
      "6097151301 -122.700202  38.334218      24       0       0     124     244   \n",
      "6001440304 -122.076622  37.586911      13       0       0      35     437   \n",
      "6013389200 -122.305164  37.901093      12       0       0      56      87   \n",
      "6001450604 -121.886601  37.681166       0      10      31      57     326   \n",
      "6075012302 -122.412056  37.787055       0       0       0       8      29   \n",
      "6085509107 -122.056536  37.379594       0       0       0     112     471   \n",
      "\n",
      "           Emp_WHO Emp_RET Emp_TRA Emp_INF Emp_FIN Emp_PRO Emp_EDU Emp_ART  \\\n",
      "tract                                                                        \n",
      "6001425103      30     100       9       9     201     534     651      59   \n",
      "6001425104       0     247      87      71      49     254     345     341   \n",
      "6001426100      10     162       0     115     260     852     679      66   \n",
      "6001427100      38     159      41      71     142     291     436     131   \n",
      "6001427800      84     124      70     222     216     554     640     231   \n",
      "6001428302     189     189     241     132     247     802     670     182   \n",
      "6001430300      84     153       5      36     151     176     568     134   \n",
      "6001430700      17     182      72      35     101     253     381     207   \n",
      "6001431100      69     222     166      44      91     183     376     137   \n",
      "6001432501      53     467     110       4      69     270     464     314   \n",
      "6001433103      53     227      70      11      90     397     368     254   \n",
      "6001433300     110     504     249     139     114     322     783     142   \n",
      "6001433900     318     225     149      20     137     740     892     111   \n",
      "6001435300      48     233     163      13     143     196     443      97   \n",
      "6001435800     163     277     226     103      65     401     437     276   \n",
      "6001436300     198     347     195      75     194     460     481     361   \n",
      "6001437000     153     154     294      23     135     278     541      30   \n",
      "6001437400      46     205      96       7     115     267     172     162   \n",
      "6001437702      44     203      53      17      35     260     227     147   \n",
      "6001438201     176     248     200      17      42     216     372     185   \n",
      "6001438300      51     253     121      54      51     266     362      44   \n",
      "6001440331      68     135      89      42      54     215     294     154   \n",
      "6001440335     117     134      34      74     166     766     638     555   \n",
      "6001441401     127     485     186     148     127     676     790     280   \n",
      "6001441522      34     209     184      33     199     524     684      62   \n",
      "6001441602      73     387      58     105     244     442     579     410   \n",
      "6001441925     110     263      90     146     338    1181     798      19   \n",
      "6001442100      76     126      84     119     179     415     456      73   \n",
      "6001442500      70     512     210      85     193     433     594     165   \n",
      "6001442700      47     125      51      27      84     176     376      83   \n",
      "...            ...     ...     ...     ...     ...     ...     ...     ...   \n",
      "6097150202      17     270      45      48     128     394     518     361   \n",
      "6097150203      21     243       4      20     116      89     510     144   \n",
      "6097150303      43     140      48      26     170     221     310      70   \n",
      "6097150304      13     222     108      69      92     441     743     460   \n",
      "6097150305      61     239     150      20     116     268     410     646   \n",
      "6097150306      94     173      31      90      78     222     420     262   \n",
      "6097150500     126      76      46      43     110     295     412     202   \n",
      "6097150602     123     192      86      12     108     332     432     209   \n",
      "6097150603     100     449     138      97     119     366     593     422   \n",
      "6097150607      70     303      57     114     472     241     308     244   \n",
      "6001436602     154     249     105      33     116     346     444     121   \n",
      "6001450743      20     214     111      79     195     793     357     441   \n",
      "6013337300     172     272     103      93     386     396     751      50   \n",
      "6001423000      30     130      50     167      72     391    1136     110   \n",
      "6001401400      13     288     100      29      40     155     462     282   \n",
      "6055200203      54     146      21       6      39     125     199     193   \n",
      "6075015500       0     230      37     229     137     409     410      88   \n",
      "6081601400      63     360     339      52     325     395    1152     286   \n",
      "6085510600      24     187       0     178     150     947     690      86   \n",
      "6081610400      78     285      44      99     148     313     567     252   \n",
      "6085501200      54     167      72      58      96     316     445     342   \n",
      "6085503707      81     334      86      37     114     248     392     303   \n",
      "6085506605      88     177      99     127     140     366     296     191   \n",
      "6095250200      75     201     201      82      44      92     437      77   \n",
      "6097151301      82     363      95      61      94     264     475     391   \n",
      "6001440304      92     301     103      14     261     322     555     181   \n",
      "6013389200      23     135      54      15     101     148     207      97   \n",
      "6001450604      33     248      56     113     284     458     438     260   \n",
      "6075012302      27      75      90      93      16     503     411     455   \n",
      "6085509107       0     312      24     303     131     985     476     200   \n",
      "\n",
      "           Emp_OTH Emp_GOV Unemp  \n",
      "tract                             \n",
      "6001425103       0      15    79  \n",
      "6001425104     168      63    88  \n",
      "6001426100     154     145   129  \n",
      "6001427100     116     115    86  \n",
      "6001427800     114      98   120  \n",
      "6001428302     133     179   156  \n",
      "6001430300     113     149    87  \n",
      "6001430700      70      78    90  \n",
      "6001431100     124      96    83  \n",
      "6001432501     172      93   116  \n",
      "6001433103     112      11    89  \n",
      "6001433300     329     123   168  \n",
      "6001433900     172      58   146  \n",
      "6001435300     185      40    92  \n",
      "6001435800     166      94   127  \n",
      "6001436300     189      71   156  \n",
      "6001437000      86      61   100  \n",
      "6001437400      46      94    76  \n",
      "6001437702      62      14    84  \n",
      "6001438201      60      54    98  \n",
      "6001438300     162      45    83  \n",
      "6001440331     110      84    72  \n",
      "6001440335     151     115   170  \n",
      "6001441401      72     158   172  \n",
      "6001441522     115       6   125  \n",
      "6001441602     209      11   155  \n",
      "6001441925      45      76   186  \n",
      "6001442100      27      21   108  \n",
      "6001442500     147      51   161  \n",
      "6001442700      82      39    61  \n",
      "...            ...     ...   ...  \n",
      "6097150202     126      72   107  \n",
      "6097150203      97     105    82  \n",
      "6097150303     111      31    66  \n",
      "6097150304      88     113   122  \n",
      "6097150305     148      54   121  \n",
      "6097150306     178      96    95  \n",
      "6097150500      73      55    85  \n",
      "6097150602     141      57    94  \n",
      "6097150603     299     140   147  \n",
      "6097150607     109     201   118  \n",
      "6001436602     215      58   117  \n",
      "6001450743     145      33   129  \n",
      "6013337300     170     162   152  \n",
      "6001423000     144     108   129  \n",
      "6001401400     362      13    88  \n",
      "6055200203      47      45    59  \n",
      "6075015500      88      33    62  \n",
      "6081601400     133     121   121  \n",
      "6085510600      57      98   120  \n",
      "6081610400     210      55    93  \n",
      "6085501200     168      61    89  \n",
      "6085503707     285      48   113  \n",
      "6085506605     149      25    89  \n",
      "6095250200     126      43   100  \n",
      "6097151301     137      99   110  \n",
      "6001440304     162     119   124  \n",
      "6013389200      39      38    50  \n",
      "6001450604     126     136   123  \n",
      "6075012302      68      43    66  \n",
      "6085509107      79      29   129  \n",
      "\n",
      "[1582 rows x 18 columns]\n"
     ]
    }
   ],
   "source": [
    "# Aggregate and clean up the employment columns as per ARIO industries\n",
    "df_emp = df_all[['OBJECTID','Full_tract','POINT_X', 'POINT_Y']].copy()\n",
    "df_emp['Emp_AGR'] = df_all['# Employment, Agriculture, Forestry, Fishing and Hunting, 2016']\n",
    "df_emp['Emp_MIN'] = df_all['# Employment, Mining, Quarrying and Oil and Gas Extraction, 2016']\n",
    "df_emp['Emp_UTI'] = df_all['# Employment, Utilities, 2016']\n",
    "df_emp['Emp_CON'] = df_all['# Employment, Construction, 2016']\n",
    "df_emp['Emp_MAN'] = df_all['# Employment, Manufacturing, 2016']\n",
    "df_emp['Emp_WHO'] = df_all['# Employment, Wholesale Trade, 2016']\n",
    "df_emp['Emp_RET'] = df_all['# Employment, Retail Trade, 2016']\n",
    "df_emp['Emp_TRA'] = df_all['# Employment, Transportation and Warehousing, 2016']\n",
    "df_emp['Emp_INF'] = df_all['# Employment, Information, 2016']\n",
    "df_emp['Emp_FIN'] = df_all['# Employment, Finance and Insurance, 2016']+df_all['# Employment, Real Estate and Rental and Leasing, 2016']\n",
    "df_emp['Emp_PRO'] = df_all['# Employment, Administrative and Support and Waste Mgt. Services, 2016'] + df_all['# Employment, Professional, Scientific, and Technical Services, 2016']\\\n",
    "+df_all['# Employment, Management of Companies and Enterprises, 2016']\n",
    "df_emp['Emp_EDU'] = df_all['# Employment, Educational Services, 2016'] + df_all['# Employment, Health Care and Social Assistance, 2016']\n",
    "df_emp['Emp_ART'] = df_all['# Employment, Arts, Entertainment, Accommodation and Food Services, etc., 2016']\n",
    "df_emp['Emp_OTH'] = df_all['# Employment, Other Services, 2016']\n",
    "df_emp['Emp_GOV'] = df_all['# Employment, Public Administration, 2016']\n",
    "#df_emp['Emp_GOV'] = df_all[\"# Employment, State Government Workers, 2016\"]   + df_all[\"# Employment, Local Government Workers, 2016\"]  + df_all[\"# Employment, Local Government Workers, 2016\"]\n",
    "df_emp['Unemp'] = df_all['# Employment, Unemployed, 2016']\n",
    "df_emp_total =  df_emp.sum(axis=0).loc[\"Emp_AGR\":'Unemp']\n",
    "df_emp = df_emp.drop(columns = ['OBJECTID']).rename(index=str, columns={\"Full_tract\": \"tract\"}).set_index('tract')\n",
    "print df_emp\n",
    "df_emp_total.to_csv('Output\\BA_2016_employment_agg_v2.csv')\n",
    "df_emp.to_csv('Output\\BA_2016_employment_tract_v2.csv')\n"
   ]
  },
  {
   "cell_type": "markdown",
   "metadata": {},
   "source": [
    "Check employment totals"
   ]
  },
  {
   "cell_type": "code",
   "execution_count": 25,
   "metadata": {},
   "outputs": [],
   "source": [
    "df_emp_perc = df_all[['OBJECTID','Full_tract','POINT_X', 'POINT_Y']].copy()\n",
    "df_emp_perc['Emp_AGR'] = df_all['% Employment, Agriculture, Forestry, Fishing and Hunting, 2016']\n",
    "df_emp_perc['Emp_UTI'] = df_all['% Employment, Utilities, 2016']\n",
    "df_emp_perc['Emp_MIN'] = df_all['% Employment, Mining, Quarrying and Oil and Gas Extraction, 2016']\n",
    "df_emp_perc['Emp_CON'] = df_all['% Employment, Construction, 2016']\n",
    "df_emp_perc['Emp_MAN'] = df_all['% Employment, Manufacturing, 2016']\n",
    "df_emp_perc['Emp_WHO'] = df_all['% Employment, Wholesale Trade, 2016']\n",
    "df_emp_perc['Emp_RET'] = df_all['% Employment, Retail Trade, 2016']\n",
    "df_emp_perc['Emp_TRA'] = df_all['% Employment, Transportation and Warehousing, 2016']\n",
    "df_emp_perc['Emp_INF'] = df_all['% Employment, Information, 2016']\n",
    "df_emp_perc['Emp_FIN'] = df_all['% Employment, Finance and Insurance, 2016']+df_all['% Employment, Real Estate and Rental and Leasing, 2016']\n",
    "df_emp_perc['Emp_PRO'] = df_all['% Employment, Administrative and Support and Waste Mgt. Services, 2016'] + df_all['% Employment, Professional, Scientific, and Technical Services, 2016']\\\n",
    "+df_all['% Employment, Management of Companies and Enterprises, 2016']\n",
    "df_emp_perc['Emp_EDU'] = df_all['% Employment, Educational Services, 2016'] + df_all['% Employment, Health Care and Social Assistance, 2016']\n",
    "df_emp_perc['Emp_ART'] = df_all['% Employment, Arts, Entertainment, Accommodation and Food Services, etc., 2016']\n",
    "df_emp_perc['Emp_OTH'] = df_all['% Employment, Other Services, 2016']\n",
    "df_emp_perc['Emp_GOV'] = df_all['% Employment, Public Administration, 2016']\n",
    "#df_emp_perc['Emp_GOV'] = df_all[\"% Employment, State Government Workers, 2016\"]   + df_all[\"% Employment, Local Government Workers, 2016\"]  + df_all[\"% Employment, Local Government Workers, 2016\"]\n",
    "#print df_emp_perc.loc[:,\"Emp_AGR\":'Emp_GOV'].sum(axis=1).sort_values(axis = 0)"
   ]
  },
  {
   "cell_type": "markdown",
   "metadata": {},
   "source": [
    "Write the overall output file"
   ]
  },
  {
   "cell_type": "code",
   "execution_count": 26,
   "metadata": {},
   "outputs": [
    {
     "name": "stdout",
     "output_type": "stream",
     "text": [
      "['county_id', 'county_name', 'tract', 'pcwgt', 'n_hh', 'pcinc', 'pov_frac', 'pop_dep', 'hh_share', 'savings_per_hh', 'pension_ss_pc', 'hh_str_asset_value', 'mort_pc', 'peinc_AGR', 'peinc_MIN', 'peinc_UTI', 'peinc_CON', 'peinc_MAN', 'peinc_WHO', 'peinc_RET', 'peinc_TRA', 'peinc_INF', 'peinc_FIN', 'peinc_PRO', 'peinc_EDU', 'peinc_ART', 'peinc_OTH', 'peinc_GOV', 'hh_pub_ass_inc', 'n_hh_inc_less15', 'n_hh_inc_15_25', 'n_hh_inc_25_35', 'n_hh_inc_35_50', 'n_hh_inc_50_75', 'n_hh_inc_75_100', 'n_hh_inc_100_125', 'n_hh_inc_125_150', 'n_hh_inc_150_200', 'n_hh_inc_more200', 'hh_size', 'LIL_hh', 'LIL_pc', 'VLIL_hh', 'VLIL_pc', 'ELIL_hh', 'ELIL_pc', 'pov_lev_hh', 'pov_lev_pc', 'Emp_AGR', 'Emp_MIN', 'Emp_UTI', 'Emp_CON', 'Emp_MAN', 'Emp_WHO', 'Emp_RET', 'Emp_TRA', 'Emp_INF', 'Emp_FIN', 'Emp_PRO', 'Emp_EDU', 'Emp_ART', 'Emp_OTH', 'Emp_GOV', 'Unemp']\n"
     ]
    }
   ],
   "source": [
    "# Output data specifically for the resilience model\n",
    "\n",
    "# Get country names in\n",
    "#print df_all.loc[:,['COUNTY','Full_tract','# Population, 2016']]\n",
    "df_all['COUNTY_name'] = \"\"\n",
    "county_dic = {1:\"Alameda\",13:\"Contra Costa\",41:\"Marin\",55:\"Napa\",75:\"San Francisco\",81:\"San Mateo\",85:\"Santa Clara\",95:\"Solano\",\\\n",
    "               97:\"Sonoma\"}\n",
    "unique_counties = df_all.COUNTY.unique()\n",
    "for county_num in unique_counties:\n",
    "     df_all.loc[lambda df_all: df_all.COUNTY == county_num, \"COUNTY_name\"] = county_dic[county_num]\n",
    "#print df_all.loc[:,['# Population, 2016']].sum()\n",
    "\n",
    "\n",
    "\n",
    "########### Output a file equivalent to 'finalhhframe' in resilience model\n",
    "# Add average income per industry per worker for each of the counties\n",
    "df_peinc_ind = pd.read_csv(\"Bay area - final employment statistics.csv\",index_col = 'ID').transpose()\n",
    "for county_num in unique_counties:\n",
    "    for industry in list(df_peinc_ind):\n",
    "        df_all.loc[lambda df_all: df_all.COUNTY == county_num, industry] = df_peinc_ind.loc[county_dic[county_num],industry]\n",
    "        \n",
    "# Get the total number of dependents\n",
    "df_all['Dependents'] =  df_all.loc[:,['# Population, 0 to 5 Years, 2016', '# Population, 6 to 11 Years, 2016',\n",
    "                  '# Population, 12 to 17 Years, 2016', '# Population, 65 Years and Older, 2016']].sum(axis=1)\n",
    "\n",
    "# Per capital social assistance and mortgage\n",
    "df_all.loc[df_all['# Population, 2016']==0,['# Population, 2016']] =  float('inf')\n",
    "df_all['pension_ss_pc']=df_all['Pensions and Social Security ($000), 2016'].div(df_all['# Population, 2016'])*1000\n",
    "df_all['mortgage_pc'] = df_all['Mortgage interest and charges ($000), 2016'].div(df_all['# Population, 2016'])*1000\n",
    "df_all.loc[df_all['# Population, 2016']== float('inf'),['# Population, 2016']] = 0\n",
    "\n",
    "# Get the total number of dependents\n",
    "df_all['hh_share'] =  1-df_all.loc[:,['% Housing, Renter Occupied, 2016']]/100\n",
    "\n",
    "\n",
    "# Write the outputs\n",
    "df_out = pd.DataFrame(df_all.loc[:,['COUNTY','COUNTY_name','Full_tract','# Population, 2016',\n",
    "                                    '# Total Households, 2016','Household Income, Per Capita ($), 2016',\n",
    "                                    '% Population in Poverty, Total, 2016','Dependents','hh_share','Value of savings, checking, money market, and CDs (Household Average), 2016',\n",
    "                                    'pension_ss_pc','total_asset_value','mortgage_pc',\n",
    "                                    'peinc_AGR','peinc_MIN','peinc_UTI','peinc_CON','peinc_MAN','peinc_WHO','peinc_RET','peinc_TRA',\n",
    "                                    'peinc_INF','peinc_FIN','peinc_PRO','peinc_EDU','peinc_ART','peinc_OTH','peinc_GOV',\n",
    "                                    '# Total Households with Public Assistance Income, 2016',\n",
    "                                    '# Households w/ Income Less than $15,000, 2016', '# Households w/ Income $15,000 to $24,999, 2016',\n",
    "                                    '# Households w/ Income $25,000 to $34,999, 2016','# Households w/ Income $35,000 to $49,999, 2016','# Households w/ Income $50,000 to $74,999, 2016',  \n",
    "                                    '# Households w/ Income $75,000 to $99,999, 2016', '# Households w/ Income $100,000 to $124,999, 2016','# Households w/ Income $125,000 to $149,999, 2016', \n",
    "                                    '# Households w/ Income $150,000 to $199,999, 2016', '# Households w/ Income $200,000 and Over, 2016']])#,\n",
    "\n",
    "df_out.columns = ['county_id','county_name','tract','pcwgt','n_hh','pcinc','pov_frac','pop_dep','hh_share','savings_per_hh',\n",
    "                 'pension_ss_pc','hh_str_asset_value','mort_pc',\n",
    "                 'peinc_AGR','peinc_MIN','peinc_UTI','peinc_CON','peinc_MAN','peinc_WHO','peinc_RET','peinc_TRA',\n",
    "                  'peinc_INF','peinc_FIN','peinc_PRO','peinc_EDU','peinc_ART','peinc_OTH','peinc_GOV',\n",
    "                 'hh_pub_ass_inc','n_hh_inc_less15','n_hh_inc_15_25','n_hh_inc_25_35','n_hh_inc_35_50','n_hh_inc_50_75',\n",
    "                 'n_hh_inc_75_100','n_hh_inc_100_125','n_hh_inc_125_150','n_hh_inc_150_200','n_hh_inc_more200']\n",
    "df_out['pov_frac'] = df_out['pov_frac']/100 \n",
    "\n",
    "# Merge with poverty data\n",
    "df_out = pd.merge(df_out, df_pov, how='inner',left_on='tract',right_index=True)\n",
    "\n",
    "# Merge with employment data\n",
    "df_out = pd.merge(df_out, df_emp, how='inner',left_on='tract',right_index=True)\n",
    "drop_columns = ['POINT_X', 'POINT_Y']\n",
    "df_out = df_out.drop(columns = drop_columns)\n",
    "\n",
    "print list(df_out)\n",
    "#print df_out\n",
    "df_out.to_csv('Output\\INPUT_for_resilience_model_v2.csv',index = False)"
   ]
  },
  {
   "cell_type": "markdown",
   "metadata": {},
   "source": [
    "check consistency with previous version"
   ]
  },
  {
   "cell_type": "code",
   "execution_count": 27,
   "metadata": {},
   "outputs": [
    {
     "name": "stdout",
     "output_type": "stream",
     "text": [
      "-3.8297912397e-07\n"
     ]
    }
   ],
   "source": [
    "df_check1 = pd.read_csv('Output\\INPUT_for_resilience_model.csv')\n",
    "df_check2 = pd.read_csv('Output\\INPUT_for_resilience_model_v2.csv')\n",
    "\n",
    "print (df_check1.pov_lev_pc-df_check2.pov_lev_pc).sum()\n"
   ]
  },
  {
   "cell_type": "markdown",
   "metadata": {},
   "source": [
    "### Save the output table"
   ]
  },
  {
   "cell_type": "code",
   "execution_count": 28,
   "metadata": {},
   "outputs": [],
   "source": [
    "df_all.to_csv('Bay_area_exposure_merged.csv')"
   ]
  }
 ],
 "metadata": {
  "kernelspec": {
   "display_name": "Python 2",
   "language": "python",
   "name": "python2"
  },
  "language_info": {
   "codemirror_mode": {
    "name": "ipython",
    "version": 2
   },
   "file_extension": ".py",
   "mimetype": "text/x-python",
   "name": "python",
   "nbconvert_exporter": "python",
   "pygments_lexer": "ipython2",
   "version": "2.7.14"
  }
 },
 "nbformat": 4,
 "nbformat_minor": 2
}
