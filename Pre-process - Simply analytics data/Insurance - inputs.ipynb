{
 "cells": [
  {
   "cell_type": "markdown",
   "metadata": {},
   "source": [
    "# Determine tracts with different income percentiles"
   ]
  },
  {
   "cell_type": "markdown",
   "metadata": {},
   "source": [
    "### Load data"
   ]
  },
  {
   "cell_type": "code",
   "execution_count": 12,
   "metadata": {},
   "outputs": [
    {
     "name": "stdout",
     "output_type": "stream",
     "text": [
      "['county_id', 'county_name', 'pcwgt', 'n_hh', 'pcinc', 'pov_frac', 'pop_dep', 'hh_share', 'savings_per_hh', 'pension_ss_pc', 'hh_str_asset_value', 'mort_pc', 'peinc_AGR', 'peinc_MIN', 'peinc_UTI', 'peinc_CON', 'peinc_MAN', 'peinc_WHO', 'peinc_RET', 'peinc_TRA', 'peinc_INF', 'peinc_FIN', 'peinc_PRO', 'peinc_EDU', 'peinc_ART', 'peinc_OTH', 'peinc_GOV', 'hh_pub_ass_inc', 'n_hh_inc_less15', 'n_hh_inc_15_25', 'n_hh_inc_25_35', 'n_hh_inc_35_50', 'n_hh_inc_50_75', 'n_hh_inc_75_100', 'n_hh_inc_100_125', 'n_hh_inc_125_150', 'n_hh_inc_150_200', 'n_hh_inc_more200', 'hh_size', 'LIL_hh', 'LIL_pc', 'VLIL_hh', 'VLIL_pc', 'ELIL_hh', 'ELIL_pc', 'pov_lev_hh', 'pov_lev_pc', 'Emp_AGR', 'Emp_MIN', 'Emp_UTI', 'Emp_CON', 'Emp_MAN', 'Emp_WHO', 'Emp_RET', 'Emp_TRA', 'Emp_INF', 'Emp_FIN', 'Emp_PRO', 'Emp_EDU', 'Emp_ART', 'Emp_OTH', 'Emp_GOV', 'Unemp']\n"
     ]
    }
   ],
   "source": [
    "import os\n",
    "import numpy as np\n",
    "import pandas as pd\n",
    "import matplotlib.pyplot as plt\n",
    "cwd = os.getcwd()\n",
    "\n",
    "df_input = pd.read_csv('Output\\INPUT_for_resilience_model_v2.csv').set_index('tract')\n",
    "print list(df_input)"
   ]
  },
  {
   "cell_type": "code",
   "execution_count": 19,
   "metadata": {},
   "outputs": [
    {
     "name": "stdout",
     "output_type": "stream",
     "text": [
      "I got in\n",
      "I got out\n",
      "I got in\n",
      "I got out\n",
      "I got in\n",
      "I got out\n",
      "0.500159049818\n"
     ]
    }
   ],
   "source": [
    "# define a function for weighted quantiles. input: x, q\n",
    "# x: two-column data, the second column is weight. q: percentile\n",
    "def wquantile(x,q):           \n",
    "    xsort = x.sort_values(x.columns[0])\n",
    "    xsort['index'] = range(len(x))\n",
    "    p = q * x[x.columns[1]].sum()\n",
    "    pop = float(xsort[xsort.columns[1]][xsort['index']==0])\n",
    "    i = 0\n",
    "    print 'I got in'\n",
    "    while pop < p:\n",
    "        pop = pop + float(xsort[xsort.columns[1]][xsort['index']==i+1])\n",
    "        i = i + 1\n",
    "    print 'I got out'\n",
    "    return xsort[xsort.columns[0]][xsort['index']==i]\n",
    "\n",
    "\n",
    "#Weight the precentiles\n",
    "quantile_thresh = [0.15,0.5,0.85]\n",
    "pcinc_quantiles = []#np.array(df_avg_H.pcinc.quantile(quantile_thresh))\n",
    "\n",
    "for quantile in quantile_thresh:\n",
    "    pcinc_quantiles.append(wquantile(df_input[['pcinc','pcwgt']],quantile).values[0])\n",
    "\n",
    "pcinc_quantiles[len(quantile_thresh)-1] += 1\n",
    "print df_input.pcwgt.loc[df_input.pcinc <= pcinc_quantiles[1]].sum()*1./df_input.pcwgt.sum()\n"
   ]
  },
  {
   "cell_type": "code",
   "execution_count": 22,
   "metadata": {},
   "outputs": [],
   "source": [
    "df_out = pd.DataFrame(0, index=df_input.index, columns=['poor_15','poor_50','rich_15','rich_50'])\n",
    "\n",
    "df_out.poor_15[df_input.pcinc <= pcinc_quantiles[0]] = 1\n",
    "df_out.poor_50[df_input.pcinc <= pcinc_quantiles[1]] = 1\n",
    "df_out.rich_50[df_input.pcinc > pcinc_quantiles[1]] = 1\n",
    "df_out.rich_15[df_input.pcinc >= pcinc_quantiles[2]] = 1\n",
    "\n",
    "df_out.to_csv('./Output/insurance_penetration_flags.csv')"
   ]
  }
 ],
 "metadata": {
  "kernelspec": {
   "display_name": "Python 2",
   "language": "python",
   "name": "python2"
  },
  "language_info": {
   "codemirror_mode": {
    "name": "ipython",
    "version": 2
   },
   "file_extension": ".py",
   "mimetype": "text/x-python",
   "name": "python",
   "nbconvert_exporter": "python",
   "pygments_lexer": "ipython2",
   "version": "2.7.14"
  }
 },
 "nbformat": 4,
 "nbformat_minor": 2
}
